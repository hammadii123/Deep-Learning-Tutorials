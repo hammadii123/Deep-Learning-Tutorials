{
 "cells": [
  {
   "cell_type": "code",
   "execution_count": null,
   "id": "6f2619c2",
   "metadata": {},
   "outputs": [
    {
     "name": "stdout",
     "output_type": "stream",
     "text": [
      "StandardScaler - MSE on test set: 198.3256\n",
      "MinMaxScaler - MSE on test set: 210.0990\n"
     ]
    }
   ],
   "source": [
    "# Task1\n",
    "import pandas as pd\n",
    "from sklearn.model_selection import train_test_split\n",
    "from sklearn.preprocessing import MinMaxScaler, StandardScaler\n",
    "from tensorflow.keras.models import Sequential\n",
    "from tensorflow.keras.layers import Dense, Input\n",
    "\n",
    "\n",
    "df = pd.read_csv(\"fake_boston_housing_500.csv\")\n",
    "X = df.drop('PRICE', axis=1)\n",
    "y = df['PRICE']\n",
    "\n",
    "# Train-test split\n",
    "X_train, X_test, y_train, y_test = train_test_split(X, y, test_size=0.2, random_state=42)\n",
    "\n",
    "# Define scalers\n",
    "scaler_minmax = MinMaxScaler()\n",
    "scaler_standard = StandardScaler()\n",
    "\n",
    "# Apply MinMaxScaler\n",
    "X_train_mm = scaler_minmax.fit_transform(X_train)\n",
    "X_test_mm = scaler_minmax.transform(X_test)\n",
    "\n",
    "# Apply StandardScaler\n",
    "X_train_std = scaler_standard.fit_transform(X_train)\n",
    "X_test_std = scaler_standard.transform(X_test)\n",
    "\n",
    "# Define model training function\n",
    "def train_model(X_train, y_train, X_test, y_test, desc=\"\"):\n",
    "    model = Sequential([\n",
    "        Input(shape=(X_train.shape[1],)),  # Use Input layer here\n",
    "        Dense(64, activation='relu'),\n",
    "        Dense(64, activation='relu'),\n",
    "        Dense(1)\n",
    "    ])\n",
    "    model.compile(optimizer='adam', loss='mean_squared_error')\n",
    "    model.fit(X_train, y_train, epochs=100, batch_size=32, verbose=0)\n",
    "    loss = model.evaluate(X_test, y_test, verbose=0)\n",
    "    print(f\"{desc} - MSE on test set: {loss:.4f}\")\n",
    "\n",
    "# Train and compare\n",
    "train_model(X_train_std, y_train, X_test_std, y_test, \"StandardScaler\")\n",
    "train_model(X_train_mm, y_train, X_test_mm, y_test, \"MinMaxScaler\")\n"
   ]
  },
  {
   "cell_type": "code",
   "execution_count": null,
   "id": "6c9ec985",
   "metadata": {},
   "outputs": [
    {
     "name": "stdout",
     "output_type": "stream",
     "text": [
      "Raw (Unscaled Data) - MSE on test set: 231.7550\n"
     ]
    }
   ],
   "source": [
    "# Task2\n",
    "\n",
    "train_model(X_train.values, y_train, X_test.values, y_test, \"Raw (Unscaled Data)\")\n"
   ]
  },
  {
   "cell_type": "code",
   "execution_count": 6,
   "id": "cd06e23d",
   "metadata": {},
   "outputs": [
    {
     "data": {
      "image/png": "[encoded data removed]",
      "text/plain": [
       "<Figure size 1200x400 with 3 Axes>"
      ]
     },
     "metadata": {},
     "output_type": "display_data"
    }
   ],
   "source": [
    "#  (c) Visualize feature distribution before and after scaling\n",
    "import matplotlib.pyplot as plt\n",
    "\n",
    "feature_index = 0  # e.g., CRIM\n",
    "\n",
    "plt.figure(figsize=(12, 4))\n",
    "\n",
    "# Raw\n",
    "plt.subplot(1, 3, 1)\n",
    "plt.hist(X_train.iloc[:, feature_index], bins=20, color='gray')\n",
    "plt.title(\"Raw Feature\")\n",
    "\n",
    "# Standard Scaled\n",
    "plt.subplot(1, 3, 2)\n",
    "plt.hist(X_train_std[:, feature_index], bins=20, color='blue')\n",
    "plt.title(\"Standard Scaled\")\n",
    "\n",
    "# MinMax Scaled\n",
    "plt.subplot(1, 3, 3)\n",
    "plt.hist(X_train_mm[:, feature_index], bins=20, color='green')\n",
    "plt.title(\"MinMax Scaled\")\n",
    "\n",
    "plt.tight_layout()\n",
    "plt.show()\n"
   ]
  },
  {
   "cell_type": "code",
   "execution_count": 7,
   "id": "beeb0bc2",
   "metadata": {},
   "outputs": [
    {
     "name": "stdout",
     "output_type": "stream",
     "text": [
      "California Housing (StandardScaler) - MSE on test set: 0.2540\n"
     ]
    }
   ],
   "source": [
    "# Task3\n",
    "from sklearn.datasets import fetch_california_housing\n",
    "\n",
    "# Load California housing dataset\n",
    "california = fetch_california_housing()\n",
    "X_cal = pd.DataFrame(california.data, columns=california.feature_names)\n",
    "y_cal = california.target\n",
    "\n",
    "# Train-test split\n",
    "X_train_cal, X_test_cal, y_train_cal, y_test_cal = train_test_split(X_cal, y_cal, test_size=0.2, random_state=42)\n",
    "\n",
    "# Apply Standard Scaling\n",
    "X_train_cal_scaled = scaler_standard.fit_transform(X_train_cal)\n",
    "X_test_cal_scaled = scaler_standard.transform(X_test_cal)\n",
    "\n",
    "# Train model\n",
    "train_model(X_train_cal_scaled, y_train_cal, X_test_cal_scaled, y_test_cal, \"California Housing (StandardScaler)\")\n"
   ]
  }
 ],
 "metadata": {
  "kernelspec": {
   "display_name": "Python 3",
   "language": "python",
   "name": "python3"
  },
  "language_info": {
   "codemirror_mode": {
    "name": "ipython",
    "version": 3
   },
   "file_extension": ".py",
   "mimetype": "text/x-python",
   "name": "python",
   "nbconvert_exporter": "python",
   "pygments_lexer": "ipython3",
   "version": "3.11.0"
  }
 },
 "nbformat": 4,
 "nbformat_minor": 5
}
