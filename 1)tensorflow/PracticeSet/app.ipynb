{
 "cells": [
  {
   "cell_type": "code",
   "execution_count": 4,
   "metadata": {},
   "outputs": [
    {
     "name": "stdout",
     "output_type": "stream",
     "text": [
      "Random Tensor: [0.3224473  0.8626516  0.2627145  0.48103607 0.96519804]\n",
      "Sum: 2.8940475\n",
      "Mean: 0.5788095\n",
      "Max: 0.96519804\n"
     ]
    }
   ],
   "source": [
    "# Task 1. \n",
    "# • Create a TensorFlow tensor with random float values. Calculate the sum, mean, and   maximum of the tensor. Hint: Use tf.reduce_sum(), tf.reduce_mean(), tf.reduce_max(). \n",
    "\n",
    "import tensorflow as tf\n",
    "\n",
    "\n",
    "random_tensor = tf.random.uniform(shape=[5], minval=0, maxval=1)\n",
    "\n",
    "\n",
    "sum_value = tf.reduce_sum(random_tensor)\n",
    "mean_value = tf.reduce_mean(random_tensor)\n",
    "max_value = tf.reduce_max(random_tensor)\n",
    "\n",
    "# Print results\n",
    "print(\"Random Tensor:\", random_tensor.numpy())\n",
    "print(\"Sum:\", sum_value.numpy())\n",
    "print(\"Mean:\", mean_value.numpy())\n",
    "print(\"Max:\", max_value.numpy())\n"
   ]
  },
  {
   "cell_type": "code",
   "execution_count": 6,
   "metadata": {},
   "outputs": [
    {
     "name": "stdout",
     "output_type": "stream",
     "text": [
      "3D Tensor:\n",
      " [[[ 1  2]\n",
      "  [ 3  4]]\n",
      "\n",
      " [[ 5  6]\n",
      "  [ 7  8]]\n",
      "\n",
      " [[ 9 10]\n",
      "  [11 12]]]\n",
      "Specific Element: 6\n",
      "2D Slice:\n",
      " [[5 6]\n",
      " [7 8]]\n",
      "1D Slice: [ 9 10]\n"
     ]
    }
   ],
   "source": [
    "# •  Create a 3D TensorFlow tensor. Access and print a specific element, a 2D slice, and a 1D  slice.    Hint: Use standard Python indexing and slicing syntax.\n",
    "import tensorflow as tf\n",
    "tensor_3d = tf.constant([\n",
    "    [[1, 2], [3, 4]],  \n",
    "    [[5, 6], [7, 8]],  \n",
    "    [[9, 10], [11, 12]] \n",
    "])\n",
    "\n",
    "# Access a specific element (2nd matrix, 1st row, 2nd column)\n",
    "specific_element = tensor_3d[1, 0, 1]  \n",
    "\n",
    "# Access a 2D slice (Get entire 2nd matrix)\n",
    "slice_2d = tensor_3d[1]\n",
    "\n",
    "# Access a 1D slice (Get 1st row of the 3rd matrix)\n",
    "slice_1d = tensor_3d[2, 0]  \n",
    "\n",
    "\n",
    "print(\"3D Tensor:\\n\", tensor_3d.numpy())\n",
    "print(\"Specific Element:\", specific_element.numpy())\n",
    "print(\"2D Slice:\\n\", slice_2d.numpy())\n",
    "print(\"1D Slice:\", slice_1d.numpy())"
   ]
  },
  {
   "cell_type": "code",
   "execution_count": 9,
   "metadata": {},
   "outputs": [
    {
     "name": "stdout",
     "output_type": "stream",
     "text": [
      "Addition: [15 30 45]\n",
      "Subtraction: [ 5 10 15]\n",
      "Multiplication: [ 50 200 450]\n",
      "Division: [2. 2. 2.]\n"
     ]
    }
   ],
   "source": [
    "# TASK 2 \n",
    "tensor1 = tf.constant([10, 20, 30])\n",
    "tensor2 = tf.constant([5, 10, 15])\n",
    "\n",
    "def tensor_operations(tensor1, tensor2):\n",
    "  \n",
    "    return {\n",
    "        \"addition\": tensor1 + tensor2,\n",
    "        \"subtraction\": tensor1 - tensor2,\n",
    "        \"multiplication\": tensor1 * tensor2,\n",
    "        \"division\": tensor1 / tensor2\n",
    "    }\n",
    "\n",
    "\n",
    "results = tensor_operations(tensor1, tensor2)\n",
    "\n",
    "\n",
    "for key, value in results.items():\n",
    "    print(f\"{key.capitalize()}: {value.numpy()}\")\n"
   ]
  },
  {
   "cell_type": "code",
   "execution_count": 12,
   "metadata": {},
   "outputs": [
    {
     "name": "stdout",
     "output_type": "stream",
     "text": [
      "Original Array: [0.46489735 0.96536741 0.54152111 0.90155251 0.9365818 ]\n",
      "Sorted Ascending: [0.46489735 0.54152111 0.90155251 0.9365818  0.96536741]\n",
      "Sorted Descending: [0.96536741 0.9365818  0.90155251 0.54152111 0.46489735]\n"
     ]
    }
   ],
   "source": [
    "# Task 3.\n",
    "# 1. Create & Sort a NumPy Array\n",
    "import numpy as np\n",
    "\n",
    "random_array = np.random.rand(5)\n",
    "\n",
    "# Sort in ascending and descending order\n",
    "sorted_asc = np.sort(random_array)\n",
    "sorted_desc = np.sort(random_array)[::-1]\n",
    "\n",
    "print(\"Original Array:\", random_array)\n",
    "print(\"Sorted Ascending:\", sorted_asc)\n",
    "print(\"Sorted Descending:\", sorted_desc)\n"
   ]
  },
  {
   "cell_type": "code",
   "execution_count": 14,
   "metadata": {},
   "outputs": [
    {
     "name": "stdout",
     "output_type": "stream",
     "text": [
      "Original Matrix:\n",
      " [[4 7]\n",
      " [2 6]]\n",
      "Transpose:\n",
      " [[4 2]\n",
      " [7 6]]\n",
      "Inverse:\n",
      " [[ 0.6 -0.7]\n",
      " [-0.2  0.4]]\n"
     ]
    }
   ],
   "source": [
    "# 2. Create a 2x2 Matrix, Find Transpose & Inverse\n",
    "# Create a 2x2 NumPy matrix\n",
    "matrix = np.array([[4, 7], [2, 6]])\n",
    "\n",
    "# Transpose the matrix\n",
    "transpose_matrix = np.transpose(matrix)\n",
    "\n",
    "# Inverse of the matrix\n",
    "inverse_matrix = np.linalg.inv(matrix)\n",
    "\n",
    "print(\"Original Matrix:\\n\", matrix)\n",
    "print(\"Transpose:\\n\", transpose_matrix)\n",
    "print(\"Inverse:\\n\", inverse_matrix)\n"
   ]
  },
  {
   "cell_type": "code",
   "execution_count": 16,
   "metadata": {},
   "outputs": [
    {
     "name": "stdout",
     "output_type": "stream",
     "text": [
      "2D Array:\n",
      " [[10 20 30]\n",
      " [40 50 60]\n",
      " [70 80 90]]\n",
      "Sum of Each Row: [ 60 150 240]\n",
      "Mean of Each Column: [40. 50. 60.]\n",
      "Standard Deviation of Entire Array: 25.81988897471611\n"
     ]
    }
   ],
   "source": [
    "# 3. Perform Row Sum, Column Mean, & Standard Deviation\n",
    "# Create a 2D NumPy array\n",
    "array_2d = np.array([[10, 20, 30], [40, 50, 60], [70, 80, 90]])\n",
    "\n",
    "# Sum of each row\n",
    "row_sums = np.sum(array_2d, axis=1)\n",
    "\n",
    "# Mean of each column\n",
    "column_means = np.mean(array_2d, axis=0)\n",
    "\n",
    "# Standard deviation of entire array\n",
    "std_dev = np.std(array_2d)\n",
    "\n",
    "print(\"2D Array:\\n\", array_2d)\n",
    "print(\"Sum of Each Row:\", row_sums)\n",
    "print(\"Mean of Each Column:\", column_means)\n",
    "print(\"Standard Deviation of Entire Array:\", std_dev)\n"
   ]
  }
 ],
 "metadata": {
  "kernelspec": {
   "display_name": "Python 3",
   "language": "python",
   "name": "python3"
  },
  "language_info": {
   "codemirror_mode": {
    "name": "ipython",
    "version": 3
   },
   "file_extension": ".py",
   "mimetype": "text/x-python",
   "name": "python",
   "nbconvert_exporter": "python",
   "pygments_lexer": "ipython3",
   "version": "3.11.0"
  }
 },
 "nbformat": 4,
 "nbformat_minor": 2
}
