{
 "cells": [
  {
   "cell_type": "code",
   "execution_count": null,
   "id": "2b475f5f",
   "metadata": {},
   "outputs": [
    {
     "name": "stdout",
     "output_type": "stream",
     "text": [
      "\u001b[1m1/1\u001b[0m \u001b[32m━━━━━━━━━━━━━━━━━━━━\u001b[0m\u001b[37m\u001b[0m \u001b[1m1s\u001b[0m 656ms/step - accuracy: 1.0000 - loss: 0.2235\n",
      "\n",
      "Task 1 - Activation Function Changed to ReLU\n",
      "Test Accuracy: 1.0\n",
      "\u001b[1m1/1\u001b[0m \u001b[32m━━━━━━━━━━━━━━━━━━━━\u001b[0m\u001b[37m\u001b[0m \u001b[1m0s\u001b[0m 363ms/step\n",
      "Predictions: [[0.7828089 ]\n",
      " [0.18296477]]\n"
     ]
    }
   ],
   "source": [
    "import tensorflow as tf\n",
    "from sklearn.model_selection import train_test_split\n",
    "import numpy as np\n",
    "\n",
    "# Sample dataset: [Goals, Fitness Level], Output: 1=Selected, 0=Not selected\n",
    "X = np.array([[1, 4], [2, 6], [3, 7], [4, 4], [5, 9], [6, 8], [7, 6], [8, 9], [9, 5], [10, 10]])\n",
    "y = np.array([[0], [0], [0], [0], [1], [1], [1], [1], [1], [1]])\n",
    "\n",
    "X_train, X_test, y_train, y_test = train_test_split(X, y, test_size=0.2, random_state=42)\n",
    "\n",
    "\n",
    "model1 = tf.keras.Sequential([\n",
    "    tf.keras.layers.Dense(4, activation='relu'),  # Changed from sigmoid to relu\n",
    "    tf.keras.layers.Dense(1, activation='sigmoid')\n",
    "])\n",
    "\n",
    "model1.compile(optimizer='adam', loss='binary_crossentropy', metrics=['accuracy'])\n",
    "model1.fit(X_train, y_train, epochs=100, verbose=0)\n",
    "\n",
    "loss1, acc1 = model1.evaluate(X_test, y_test)\n",
    "print(\"\\nTask 1 - Activation Function Changed to ReLU\")\n",
    "print(\"Test Accuracy:\", acc1)\n",
    "print(\"Predictions:\", model1.predict(X_test))\n"
   ]
  },
  {
   "cell_type": "code",
   "execution_count": 4,
   "id": "eb3986e5",
   "metadata": {},
   "outputs": [
    {
     "name": "stdout",
     "output_type": "stream",
     "text": [
      "\u001b[1m1/1\u001b[0m \u001b[32m━━━━━━━━━━━━━━━━━━━━\u001b[0m\u001b[37m\u001b[0m \u001b[1m0s\u001b[0m 488ms/step - accuracy: 0.5000 - loss: 0.6553\n",
      "\n",
      "Task 2 - One More Hidden Layer Added\n",
      "Test Accuracy: 0.5\n",
      "\u001b[1m1/1\u001b[0m \u001b[32m━━━━━━━━━━━━━━━━━━━━\u001b[0m\u001b[37m\u001b[0m \u001b[1m0s\u001b[0m 219ms/step\n",
      "Predictions: [[0.77475977]\n",
      " [0.6519201 ]]\n"
     ]
    }
   ],
   "source": [
    "# Task2 (Add more hidden layers)\n",
    "model2 = tf.keras.Sequential([\n",
    "    tf.keras.layers.Dense(4, activation='relu'),\n",
    "    tf.keras.layers.Dense(4, activation='relu'),  # New Hidden Layer Added\n",
    "    tf.keras.layers.Dense(1, activation='sigmoid')\n",
    "])\n",
    "\n",
    "model2.compile(optimizer='adam', loss='binary_crossentropy', metrics=['accuracy'])\n",
    "model2.fit(X_train, y_train, epochs=100, verbose=0)\n",
    "\n",
    "loss2, acc2 = model2.evaluate(X_test, y_test)\n",
    "print(\"\\nTask 2 - One More Hidden Layer Added\")\n",
    "print(\"Test Accuracy:\", acc2)\n",
    "print(\"Predictions:\", model2.predict(X_test))\n"
   ]
  },
  {
   "cell_type": "code",
   "execution_count": 5,
   "id": "c50c2dc0",
   "metadata": {},
   "outputs": [
    {
     "name": "stdout",
     "output_type": "stream",
     "text": [
      "\u001b[1m1/1\u001b[0m \u001b[32m━━━━━━━━━━━━━━━━━━━━\u001b[0m\u001b[37m\u001b[0m \u001b[1m1s\u001b[0m 554ms/step - accuracy: 0.5000 - loss: 0.8978\n",
      "\n",
      "Task 3 - More Neurons Added\n",
      "Test Accuracy: 0.5\n",
      "\u001b[1m1/1\u001b[0m \u001b[32m━━━━━━━━━━━━━━━━━━━━\u001b[0m\u001b[37m\u001b[0m \u001b[1m0s\u001b[0m 259ms/step\n",
      "Predictions: [[0.563789  ]\n",
      " [0.70552516]]\n"
     ]
    }
   ],
   "source": [
    "# Task3(Add more neurons)\n",
    "model3 = tf.keras.Sequential([\n",
    "    tf.keras.layers.Dense(8, activation='relu'),  # Increased neurons\n",
    "    tf.keras.layers.Dense(8, activation='relu'),\n",
    "    tf.keras.layers.Dense(1, activation='sigmoid')\n",
    "])\n",
    "\n",
    "model3.compile(optimizer='adam', loss='binary_crossentropy', metrics=['accuracy'])\n",
    "model3.fit(X_train, y_train, epochs=100, verbose=0)\n",
    "\n",
    "loss3, acc3 = model3.evaluate(X_test, y_test)\n",
    "print(\"\\nTask 3 - More Neurons Added\")\n",
    "print(\"Test Accuracy:\", acc3)\n",
    "print(\"Predictions:\", model3.predict(X_test))\n"
   ]
  },
  {
   "cell_type": "code",
   "execution_count": 6,
   "id": "b4bdcdb3",
   "metadata": {},
   "outputs": [
    {
     "name": "stdout",
     "output_type": "stream",
     "text": [
      "\n",
      "--- Task 4: Comparison ---\n",
      "Task 1 (ReLU): Accuracy = 1.00\n",
      "Task 2 (One Extra Layer): Accuracy = 0.50\n",
      "Task 3 (More Neurons): Accuracy = 0.50\n"
     ]
    }
   ],
   "source": [
    "# Task4 (Compare All Results)\n",
    "print(\"\\n--- Task 4: Comparison ---\")\n",
    "print(f\"Task 1 (ReLU): Accuracy = {acc1:.2f}\")\n",
    "print(f\"Task 2 (One Extra Layer): Accuracy = {acc2:.2f}\")\n",
    "print(f\"Task 3 (More Neurons): Accuracy = {acc3:.2f}\")\n"
   ]
  }
 ],
 "metadata": {
  "kernelspec": {
   "display_name": "Python 3",
   "language": "python",
   "name": "python3"
  },
  "language_info": {
   "codemirror_mode": {
    "name": "ipython",
    "version": 3
   },
   "file_extension": ".py",
   "mimetype": "text/x-python",
   "name": "python",
   "nbconvert_exporter": "python",
   "pygments_lexer": "ipython3",
   "version": "3.11.0"
  }
 },
 "nbformat": 4,
 "nbformat_minor": 5
}
